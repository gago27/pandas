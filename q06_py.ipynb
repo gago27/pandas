{
  "nbformat": 4,
  "nbformat_minor": 0,
  "metadata": {
    "colab": {
      "name": "q06.py",
      "version": "0.3.2",
      "provenance": [],
      "include_colab_link": true
    },
    "kernelspec": {
      "name": "python3",
      "display_name": "Python 3"
    }
  },
  "cells": [
    {
      "cell_type": "markdown",
      "metadata": {
        "id": "view-in-github",
        "colab_type": "text"
      },
      "source": [
        "<a href=\"https://colab.research.google.com/github/gago27/pandas/blob/master/q06_py.ipynb\" target=\"_parent\"><img src=\"https://colab.research.google.com/assets/colab-badge.svg\" alt=\"Open In Colab\"/></a>"
      ]
    },
    {
      "cell_type": "code",
      "metadata": {
        "id": "W8lb3jYk2boY",
        "colab_type": "code",
        "outputId": "7817d92a-b573-4945-ce3d-454bab03ff9c",
        "colab": {
          "base_uri": "https://localhost:8080/",
          "height": 136
        }
      },
      "source": [
        "##\n",
        "## Imprima la suma de la _c2 por cada letra de la _c1 \n",
        "## de la tabla tbl0\n",
        "## \n",
        "import pandas as pd\n",
        "import numpy as np\n",
        "pd.set_option('display.notebook_repr_html', False)\n",
        "tbl_0 = pd.read_csv('tbl0.tsv',\n",
        "                   sep = '\\t',\n",
        "                   thousands = None,\n",
        "                   decimal = '.')\n",
        "tbl_0.groupby('_c1').sum()['_c2']"
      ],
      "execution_count": 31,
      "outputs": [
        {
          "output_type": "execute_result",
          "data": {
            "text/plain": [
              "_c1\n",
              "A    37\n",
              "B    36\n",
              "C    27\n",
              "D    23\n",
              "E    67\n",
              "Name: _c2, dtype: int64"
            ]
          },
          "metadata": {
            "tags": []
          },
          "execution_count": 31
        }
      ]
    }
  ]
}
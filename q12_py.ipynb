{
  "nbformat": 4,
  "nbformat_minor": 0,
  "metadata": {
    "colab": {
      "name": "q12.py",
      "version": "0.3.2",
      "provenance": [],
      "include_colab_link": true
    },
    "kernelspec": {
      "name": "python3",
      "display_name": "Python 3"
    }
  },
  "cells": [
    {
      "cell_type": "markdown",
      "metadata": {
        "id": "view-in-github",
        "colab_type": "text"
      },
      "source": [
        "<a href=\"https://colab.research.google.com/github/gago27/pandas/blob/master/q12_py.ipynb\" target=\"_parent\"><img src=\"https://colab.research.google.com/assets/colab-badge.svg\" alt=\"Open In Colab\"/></a>"
      ]
    },
    {
      "cell_type": "code",
      "metadata": {
        "id": "zMtx2X_u_ewL",
        "colab_type": "code",
        "colab": {}
      },
      "source": [
        "##\n",
        "## Si la columna _c0 es la clave en las tablas tbl0.tsv\n",
        "## y tbl2.tsv, compute la suma de tbl2._c5b por cada\n",
        "## valor en tbl0._c1.\n",
        "## \n",
        "import pandas as pd\n",
        "import numpy as np\n",
        "pd.set_option('display.notebook_repr_html', False)\n",
        "\n",
        "tbl2 = pd.read_csv('tbl2.tsv',\n",
        "                  sep = '\\t',\n",
        "                  thousands = None,\n",
        "                  decimal = '.')\n",
        "tbl_2 = tbl2.groupby('_c5a').sum()\n",
        "suma = list(tbl_2['_c5b'])\n",
        "suma = [str(line) for line in suma]\n",
        "tbl = tbl2.groupby('_c5a')\n",
        "c5a = tbl.groups.keys()\n",
        "\n",
        "respuesta = pd.DataFrame({'_c5a' : list(c5a),\n",
        "                         '' : list(suma)})\n",
        "\n",
        "respuesta\n"
      ],
      "execution_count": 0,
      "outputs": []
    }
  ]
}
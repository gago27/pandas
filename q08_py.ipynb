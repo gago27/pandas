{
  "nbformat": 4,
  "nbformat_minor": 0,
  "metadata": {
    "colab": {
      "name": "q08.py",
      "version": "0.3.2",
      "provenance": [],
      "include_colab_link": true
    },
    "kernelspec": {
      "name": "python3",
      "display_name": "Python 3"
    }
  },
  "cells": [
    {
      "cell_type": "markdown",
      "metadata": {
        "id": "view-in-github",
        "colab_type": "text"
      },
      "source": [
        "<a href=\"https://colab.research.google.com/github/gago27/pandas/blob/master/q08_py.ipynb\" target=\"_parent\"><img src=\"https://colab.research.google.com/assets/colab-badge.svg\" alt=\"Open In Colab\"/></a>"
      ]
    },
    {
      "cell_type": "code",
      "metadata": {
        "id": "8MkpgIT5pTOb",
        "colab_type": "code",
        "outputId": "d6120bba-c871-4bb2-913b-3d5067128465",
        "colab": {
          "base_uri": "https://localhost:8080/",
          "height": 714
        }
      },
      "source": [
        "##\n",
        "## Agregue el año como una columna a la tabla tbl0.tsv \n",
        "## \n",
        "import pandas as pd\n",
        "import numpy as np\n",
        "pd.set_option('display.notebook_repr_html', False)\n",
        "tbl_0= pd.read_csv('tbl0.tsv',\n",
        "                  sep = '\\t',\n",
        "                  thousands = None,\n",
        "                  decimal = '.')\n",
        "tbl_0['ano'] = tbl_0['_c3'].map(lambda x : x[0:4])\n",
        "tbl_0\n",
        "\n"
      ],
      "execution_count": 13,
      "outputs": [
        {
          "output_type": "execute_result",
          "data": {
            "text/plain": [
              "    _c0 _c1  _c2         _c3   ano\n",
              "0     0   E    1  1999-02-28  1999\n",
              "1     1   A    2  1999-10-28  1999\n",
              "2     2   B    5  1998-05-02  1998\n",
              "3     3   A    3  1999-08-28  1999\n",
              "4     4   C    6  1999-12-01  1999\n",
              "5     5   A    7  1998-07-28  1998\n",
              "6     6   A    9  1997-02-28  1997\n",
              "7     7   B    1  1999-05-10  1999\n",
              "8     8   E    2  1997-04-12  1997\n",
              "9     9   B    3  1999-11-23  1999\n",
              "10   10   C    7  1998-01-17  1998\n",
              "11   11   C    5  1998-12-28  1998\n",
              "12   12   D    3  1999-10-15  1999\n",
              "13   13   E    8  1998-11-01  1998\n",
              "14   14   B    9  1999-08-12  1999\n",
              "15   15   D    1  1997-12-01  1997\n",
              "16   16   E    3  1997-07-28  1997\n",
              "17   17   D    5  1998-08-12  1998\n",
              "18   18   E    8  1999-08-24  1999\n",
              "19   19   E    9  1998-01-23  1998\n",
              "20   20   E    7  1999-06-22  1999\n",
              "21   21   E    3  1999-04-24  1999\n",
              "22   22   D    5  1999-06-25  1999\n",
              "23   23   A    1  1999-08-25  1999\n",
              "24   24   E    4  1997-07-26  1997\n",
              "25   25   E    6  1997-09-24  1997\n",
              "26   26   A    8  1997-09-28  1997\n",
              "27   27   E    5  1999-06-22  1999\n",
              "28   28   A    6  1999-07-29  1999\n",
              "29   29   C    0  1999-08-22  1999\n",
              "30   30   A    1  1998-04-26  1998\n",
              "31   31   D    2  1998-02-24  1998\n",
              "32   32   E    5  1999-03-24  1999\n",
              "33   33   B    4  1998-03-23  1998\n",
              "34   34   B    6  1999-04-21  1999\n",
              "35   35   D    7  1999-02-29  1999\n",
              "36   36   B    8  1997-05-21  1997\n",
              "37   37   C    9  1997-07-22  1997\n",
              "38   38   E    1  1999-09-28  1999\n",
              "39   39   E    5  1998-01-26  1998"
            ]
          },
          "metadata": {
            "tags": []
          },
          "execution_count": 13
        }
      ]
    }
  ]
}
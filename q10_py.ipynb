{
  "nbformat": 4,
  "nbformat_minor": 0,
  "metadata": {
    "colab": {
      "name": "q10.py",
      "version": "0.3.2",
      "provenance": [],
      "include_colab_link": true
    },
    "kernelspec": {
      "name": "python3",
      "display_name": "Python 3"
    }
  },
  "cells": [
    {
      "cell_type": "markdown",
      "metadata": {
        "id": "view-in-github",
        "colab_type": "text"
      },
      "source": [
        "<a href=\"https://colab.research.google.com/github/gago27/pandas/blob/master/q10_py.ipynb\" target=\"_parent\"><img src=\"https://colab.research.google.com/assets/colab-badge.svg\" alt=\"Open In Colab\"/></a>"
      ]
    },
    {
      "cell_type": "code",
      "metadata": {
        "id": "El3hn-HX3EnS",
        "colab_type": "code",
        "colab": {
          "base_uri": "https://localhost:8080/",
          "height": 714
        },
        "outputId": "1a91c902-f546-4889-baa4-6e87a1754c97"
      },
      "source": [
        "##\n",
        "## Construya una tabla que contenga _c0 y una lista\n",
        "## separada por ',' de los valores de la columna _c4\n",
        "## de la tabla tbl1.tsv\n",
        "## \n",
        "import pandas as pd\n",
        "import numpy as np\n",
        "pd.set_option('display.notebook_repr_html', False)\n",
        "tbl1 = pd.read_csv('tbl1.tsv',\n",
        "                  sep = '\\t',\n",
        "                  thousands = None,\n",
        "                  decimal = '.')\n",
        "tbl_1 = tbl1.groupby('_c0')\n",
        "tbl = tbl_1.groups.keys()\n",
        "\n",
        "listas = []\n",
        "for i in tbl:\n",
        "  j = tbl1.loc[tbl_1.groups[i]]\n",
        "  k = list(j['_c4'])\n",
        "  listas = listas +[k]\n",
        "lista = []\n",
        "for j in listas:\n",
        "  j = ','.join(j)\n",
        "  lista = lista+[j]\n",
        "lista\n",
        "\n",
        "respuesta = pd.DataFrame({'_c0' : list(tbl),\n",
        "                         'lista' : list(lista)})\n",
        "respuesta\n"
      ],
      "execution_count": 22,
      "outputs": [
        {
          "output_type": "execute_result",
          "data": {
            "text/plain": [
              "    _c0    lista\n",
              "0     0    b,g,f\n",
              "1     1    a,f,c\n",
              "2     2  f,e,a,c\n",
              "3     3      a,b\n",
              "4     4  f,g,d,a\n",
              "5     5      c,d\n",
              "6     6    g,d,a\n",
              "7     7      b,a\n",
              "8     8  d,e,a,f\n",
              "9     9  d,b,g,f\n",
              "10   10  d,c,f,b\n",
              "11   11  d,e,a,c\n",
              "12   12  g,e,f,b\n",
              "13   13      c,f\n",
              "14   14      d,b\n",
              "15   15      f,e\n",
              "16   16    e,b,f\n",
              "17   17      g,a\n",
              "18   18  e,c,f,a\n",
              "19   19      e,a\n",
              "20   20      e,f\n",
              "21   21    c,b,g\n",
              "22   22    c,f,a\n",
              "23   23    f,a,d\n",
              "24   24      c,d\n",
              "25   25    e,d,c\n",
              "26   26    a,e,f\n",
              "27   27    c,a,g\n",
              "28   28      f,e\n",
              "29   29  f,c,a,g\n",
              "30   30      b,f\n",
              "31   31      b,f\n",
              "32   32      a,c\n",
              "33   33    b,f,c\n",
              "34   34    f,a,e\n",
              "35   35      a,f\n",
              "36   36      c,a\n",
              "37   37  c,a,e,f\n",
              "38   38      e,d\n",
              "39   39    f,a,d"
            ]
          },
          "metadata": {
            "tags": []
          },
          "execution_count": 22
        }
      ]
    },
    {
      "cell_type": "code",
      "metadata": {
        "id": "gtKSndExPGBQ",
        "colab_type": "code",
        "colab": {
          "base_uri": "https://localhost:8080/",
          "height": 697
        },
        "outputId": "f1da3c79-3c2a-45a0-ff99-2d2227795a5c"
      },
      "source": [
        "listas = []\n",
        "for i in tbl:\n",
        "  j = tbl1.loc[tbl_1.groups[i]]\n",
        "  k = list(j['_c4'])\n",
        "  listas = listas +[k]\n",
        "lista = []\n",
        "for j in listas:\n",
        "  j = ','.join(j)\n",
        "  lista = lista+[j]\n",
        "lista"
      ],
      "execution_count": 21,
      "outputs": [
        {
          "output_type": "execute_result",
          "data": {
            "text/plain": [
              "['b,g,f',\n",
              " 'a,f,c',\n",
              " 'f,e,a,c',\n",
              " 'a,b',\n",
              " 'f,g,d,a',\n",
              " 'c,d',\n",
              " 'g,d,a',\n",
              " 'b,a',\n",
              " 'd,e,a,f',\n",
              " 'd,b,g,f',\n",
              " 'd,c,f,b',\n",
              " 'd,e,a,c',\n",
              " 'g,e,f,b',\n",
              " 'c,f',\n",
              " 'd,b',\n",
              " 'f,e',\n",
              " 'e,b,f',\n",
              " 'g,a',\n",
              " 'e,c,f,a',\n",
              " 'e,a',\n",
              " 'e,f',\n",
              " 'c,b,g',\n",
              " 'c,f,a',\n",
              " 'f,a,d',\n",
              " 'c,d',\n",
              " 'e,d,c',\n",
              " 'a,e,f',\n",
              " 'c,a,g',\n",
              " 'f,e',\n",
              " 'f,c,a,g',\n",
              " 'b,f',\n",
              " 'b,f',\n",
              " 'a,c',\n",
              " 'b,f,c',\n",
              " 'f,a,e',\n",
              " 'a,f',\n",
              " 'c,a',\n",
              " 'c,a,e,f',\n",
              " 'e,d',\n",
              " 'f,a,d']"
            ]
          },
          "metadata": {
            "tags": []
          },
          "execution_count": 21
        }
      ]
    }
  ]
}
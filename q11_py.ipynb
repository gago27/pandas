{
  "nbformat": 4,
  "nbformat_minor": 0,
  "metadata": {
    "colab": {
      "name": "q11.py",
      "version": "0.3.2",
      "provenance": [],
      "include_colab_link": true
    },
    "kernelspec": {
      "name": "python3",
      "display_name": "Python 3"
    }
  },
  "cells": [
    {
      "cell_type": "markdown",
      "metadata": {
        "id": "view-in-github",
        "colab_type": "text"
      },
      "source": [
        "<a href=\"https://colab.research.google.com/github/gago27/pandas/blob/master/q11_py.ipynb\" target=\"_parent\"><img src=\"https://colab.research.google.com/assets/colab-badge.svg\" alt=\"Open In Colab\"/></a>"
      ]
    },
    {
      "cell_type": "code",
      "metadata": {
        "id": "9l9MybtvE-jn",
        "colab_type": "code",
        "colab": {}
      },
      "source": [
        "##\n",
        "## Construya una tabla que contenga _c0 y una lista\n",
        "## separada por ',' de los valores de la columna _c5a\n",
        "## y _c5b (unidos por ':') de la tabla tbl2.tsv\n",
        "## \n",
        "\n",
        "import pandas as pd\n",
        "import numpy as np\n",
        "pd.set_option('display.notebook_repr_html', False)\n",
        "tbl2 = pd.read_csv('tbl2.tsv',\n",
        "                  sep = '\\t',\n",
        "                  thousands = None,\n",
        "                  decimal = '.')\n",
        "tbl_2 = tbl2.groupby('_c0')\n",
        "tbl = tbl_2.groups.keys()\n",
        "\n",
        "lista = []\n",
        "for num in tbl:\n",
        "  info = tbl2.loc[tbl_2.groups[num]]\n",
        "  c5a = list(info['_c5a'])\n",
        "  c5b = list(info['_c5b'])\n",
        "  ren = []\n",
        "  for i in range(len(c5a)):\n",
        "    m = list(c5a[i]) \n",
        "    m = ''.join(m) + ':'+ str(c5b[i])\n",
        "    ren = ren + [m]\n",
        "  ren = sorted(ren)\n",
        "  lista= lista + [ren]\n",
        "lista = [','.join(line) for line in lista]\n",
        "respuesta = pd.DataFrame({'_c0' : list(tbl),\n",
        "                         'lista' : lista})\n",
        "respuesta"
      ],
      "execution_count": 0,
      "outputs": []
    }
  ]
}
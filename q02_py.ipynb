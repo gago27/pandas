{
  "nbformat": 4,
  "nbformat_minor": 0,
  "metadata": {
    "colab": {
      "name": "q02.py",
      "version": "0.3.2",
      "provenance": [],
      "include_colab_link": true
    },
    "kernelspec": {
      "name": "python3",
      "display_name": "Python 3"
    }
  },
  "cells": [
    {
      "cell_type": "markdown",
      "metadata": {
        "id": "view-in-github",
        "colab_type": "text"
      },
      "source": [
        "<a href=\"https://colab.research.google.com/github/gago27/pandas/blob/master/q02_py.ipynb\" target=\"_parent\"><img src=\"https://colab.research.google.com/assets/colab-badge.svg\" alt=\"Open In Colab\"/></a>"
      ]
    },
    {
      "cell_type": "code",
      "metadata": {
        "id": "cVSY1nLwnIGV",
        "colab_type": "code",
        "colab": {
          "base_uri": "https://localhost:8080/",
          "height": 136
        },
        "outputId": "910d92d8-5b84-40d2-f135-a5d9951cb649"
      },
      "source": [
        "##\n",
        "## Imprima el promedio de la _c2 por cada letra de la _c1 \n",
        "## de la tabla tbl0\n",
        "## \n",
        "import pandas as pd\n",
        "import numpy as np\n",
        "pd.set_option('display.notebook_repr_html', False)\n",
        "tbl_0 = pd.read_csv('tbl0.tsv',\n",
        "                   sep = '\\t',\n",
        "                   thousands = None,\n",
        "                   decimal = '.')\n",
        "tbl_0.groupby('_c1').mean()[['_c2']]"
      ],
      "execution_count": 8,
      "outputs": [
        {
          "output_type": "execute_result",
          "data": {
            "text/plain": [
              "          _c2\n",
              "_c1          \n",
              "A    4.625000\n",
              "B    5.142857\n",
              "C    5.400000\n",
              "D    3.833333\n",
              "E    4.785714"
            ]
          },
          "metadata": {
            "tags": []
          },
          "execution_count": 8
        }
      ]
    }
  ]
}
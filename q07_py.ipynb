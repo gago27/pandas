{
  "nbformat": 4,
  "nbformat_minor": 0,
  "metadata": {
    "colab": {
      "name": "q07.py",
      "version": "0.3.2",
      "provenance": [],
      "include_colab_link": true
    },
    "kernelspec": {
      "name": "python3",
      "display_name": "Python 3"
    }
  },
  "cells": [
    {
      "cell_type": "markdown",
      "metadata": {
        "id": "view-in-github",
        "colab_type": "text"
      },
      "source": [
        "<a href=\"https://colab.research.google.com/github/gago27/pandas/blob/master/q07_py.ipynb\" target=\"_parent\"><img src=\"https://colab.research.google.com/assets/colab-badge.svg\" alt=\"Open In Colab\"/></a>"
      ]
    },
    {
      "cell_type": "code",
      "metadata": {
        "id": "65Y6O4YsmqkN",
        "colab_type": "code",
        "colab": {
          "base_uri": "https://localhost:8080/",
          "height": 714
        },
        "outputId": "710e566d-7ef4-47d6-e355-653b9e69f5dd"
      },
      "source": [
        "##\n",
        "## Agregue una columna  con la suma de _c0 y _c2 a la tabla tbl0.tsv \n",
        "## \n",
        "import pandas as pd\n",
        "import numpy as np\n",
        "pd.set_option('display.notebook_repr_html', False)\n",
        "tbl_0 = pd.read_csv('tbl0.tsv',\n",
        "                sep = '\\t',\n",
        "                thousands = None,\n",
        "                decimal = '.')\n",
        "tbl_0['suma']= tbl_0['_c0']+ tbl_0['_c2']\n",
        "tbl_0"
      ],
      "execution_count": 6,
      "outputs": [
        {
          "output_type": "execute_result",
          "data": {
            "text/plain": [
              "    _c0 _c1  _c2         _c3  suma\n",
              "0     0   E    1  1999-02-28     1\n",
              "1     1   A    2  1999-10-28     3\n",
              "2     2   B    5  1998-05-02     7\n",
              "3     3   A    3  1999-08-28     6\n",
              "4     4   C    6  1999-12-01    10\n",
              "5     5   A    7  1998-07-28    12\n",
              "6     6   A    9  1997-02-28    15\n",
              "7     7   B    1  1999-05-10     8\n",
              "8     8   E    2  1997-04-12    10\n",
              "9     9   B    3  1999-11-23    12\n",
              "10   10   C    7  1998-01-17    17\n",
              "11   11   C    5  1998-12-28    16\n",
              "12   12   D    3  1999-10-15    15\n",
              "13   13   E    8  1998-11-01    21\n",
              "14   14   B    9  1999-08-12    23\n",
              "15   15   D    1  1997-12-01    16\n",
              "16   16   E    3  1997-07-28    19\n",
              "17   17   D    5  1998-08-12    22\n",
              "18   18   E    8  1999-08-24    26\n",
              "19   19   E    9  1998-01-23    28\n",
              "20   20   E    7  1999-06-22    27\n",
              "21   21   E    3  1999-04-24    24\n",
              "22   22   D    5  1999-06-25    27\n",
              "23   23   A    1  1999-08-25    24\n",
              "24   24   E    4  1997-07-26    28\n",
              "25   25   E    6  1997-09-24    31\n",
              "26   26   A    8  1997-09-28    34\n",
              "27   27   E    5  1999-06-22    32\n",
              "28   28   A    6  1999-07-29    34\n",
              "29   29   C    0  1999-08-22    29\n",
              "30   30   A    1  1998-04-26    31\n",
              "31   31   D    2  1998-02-24    33\n",
              "32   32   E    5  1999-03-24    37\n",
              "33   33   B    4  1998-03-23    37\n",
              "34   34   B    6  1999-04-21    40\n",
              "35   35   D    7  1999-02-29    42\n",
              "36   36   B    8  1997-05-21    44\n",
              "37   37   C    9  1997-07-22    46\n",
              "38   38   E    1  1999-09-28    39\n",
              "39   39   E    5  1998-01-26    44"
            ]
          },
          "metadata": {
            "tags": []
          },
          "execution_count": 6
        }
      ]
    }
  ]
}
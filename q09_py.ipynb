{
  "nbformat": 4,
  "nbformat_minor": 0,
  "metadata": {
    "colab": {
      "name": "q09.py",
      "version": "0.3.2",
      "provenance": [],
      "include_colab_link": true
    },
    "kernelspec": {
      "name": "python3",
      "display_name": "Python 3"
    }
  },
  "cells": [
    {
      "cell_type": "markdown",
      "metadata": {
        "id": "view-in-github",
        "colab_type": "text"
      },
      "source": [
        "<a href=\"https://colab.research.google.com/github/gago27/pandas/blob/master/q09_py.ipynb\" target=\"_parent\"><img src=\"https://colab.research.google.com/assets/colab-badge.svg\" alt=\"Open In Colab\"/></a>"
      ]
    },
    {
      "cell_type": "code",
      "metadata": {
        "id": "4uhCmGEqvIZy",
        "colab_type": "code",
        "colab": {}
      },
      "source": [
        "##\n",
        "## Construya una tabla que contenga _c1 y una lista\n",
        "## separada por ':' de los valores de la columna _c2\n",
        "## para el archivo tbl0.tsv\n",
        "## \n",
        "import pandas as pd\n",
        "import numpy as np\n",
        "pd.set_option('display.notebook_repr_html', False)\n",
        "tbl0 = pd.read_csv('tbl0.tsv',\n",
        "                  sep = '\\t',\n",
        "                  thousands = None,\n",
        "                  decimal = '.')\n",
        "tbl = tbl0[['_c1','_c2']].sort_values(by=['_c1'])\n",
        "tbl_0 = tbl.groupby('_c1')\n",
        "tabla = tbl_0.groups.keys()\n",
        "lista = []\n",
        "for i in tabla:\n",
        "  Y = tbl.loc[tbl_0.groups[i]]\n",
        "  y = list(Y['_c2'])\n",
        "  y = sorted(y)\n",
        "  y = [str(num) for num in y]\n",
        "  y = ':'.join(y)\n",
        "  lista = lista+[y]\n",
        "lista\n",
        "respuesta = pd.DataFrame({'_c1' : list(tabla),\n",
        "                 'lista' : list(lista)})\n",
        "respuesta"
      ],
      "execution_count": 0,
      "outputs": []
    }
  ]
}
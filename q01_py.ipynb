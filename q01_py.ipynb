{
  "nbformat": 4,
  "nbformat_minor": 0,
  "metadata": {
    "colab": {
      "name": "q01.py",
      "version": "0.3.2",
      "provenance": [],
      "include_colab_link": true
    },
    "kernelspec": {
      "name": "python3",
      "display_name": "Python 3"
    }
  },
  "cells": [
    {
      "cell_type": "markdown",
      "metadata": {
        "id": "view-in-github",
        "colab_type": "text"
      },
      "source": [
        "<a href=\"https://colab.research.google.com/github/gago27/pandas/blob/master/q01_py.ipynb\" target=\"_parent\"><img src=\"https://colab.research.google.com/assets/colab-badge.svg\" alt=\"Open In Colab\"/></a>"
      ]
    },
    {
      "cell_type": "code",
      "metadata": {
        "id": "VKeSw9o3HViM",
        "colab_type": "code",
        "colab": {}
      },
      "source": [
        "##\n",
        "## Imprima la cantidad de registros por cada letra \n",
        "## de la columna _c1 de la tabla tbl0\n",
        "## \n",
        "import pandas as pd\n",
        "import numpy as np\n",
        "pd.set_option('display.notebook_repr_html', False)\n",
        "tbl_0 = pd.read_csv(\"tbl0.tsv\",\n",
        "                   sep = '\\t',\n",
        "                   thousands = None,\n",
        "                   decimal = '.')\n",
        "\n",
        "tbl_0.groupby('_c1').size()\n"
      ],
      "execution_count": 0,
      "outputs": []
    }
  ]
}

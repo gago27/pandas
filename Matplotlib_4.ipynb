{
  "nbformat": 4,
  "nbformat_minor": 0,
  "metadata": {
    "colab": {
      "name": "Matplotlib 4",
      "version": "0.3.2",
      "provenance": [],
      "include_colab_link": true
    },
    "kernelspec": {
      "name": "python3",
      "display_name": "Python 3"
    }
  },
  "cells": [
    {
      "cell_type": "markdown",
      "metadata": {
        "id": "view-in-github",
        "colab_type": "text"
      },
      "source": [
        "<a href=\"https://colab.research.google.com/github/gago27/pandas/blob/master/Matplotlib_4.ipynb\" target=\"_parent\"><img src=\"https://colab.research.google.com/assets/colab-badge.svg\" alt=\"Open In Colab\"/></a>"
      ]
    },
    {
      "cell_type": "code",
      "metadata": {
        "id": "IEXE6iIDFFfW",
        "colab_type": "code",
        "colab": {}
      },
      "source": [
        "import numpy as np\n",
        "import matplotlib.pyplot as plt\n",
        "import matplotlib as mpl\n",
        "import pandas as pd\n",
        "import seaborn as sns\n",
        "import matplotlib.axes as axs\n",
        "%matplotlib inline\n",
        "archivo = pd.read_csv('indicadores-mundiales.csv',\n",
        "                     sep= ',',\n",
        "                     encoding = 'latin-1')\n",
        "\n",
        "archivo['Ano'] = archivo['Ano'].map(lambda x: x[:4])\n",
        "\n",
        "plt.figure(figsize = (15, 18))\n",
        "plt.ylim(0, 2000)\n",
        "plt.plot(markerfacecolor = 'b')\n",
        "flierprops = dict(marker='o', markerfacecolor='lightblue', markeredgewidth= 3)\n",
        "sns.boxplot(x = 'Ano' , y = 'Gasto en salud (per capita)', data = archivo, color = 'gray', fliersize = 20, flierprops = flierprops)\n"
      ],
      "execution_count": 0,
      "outputs": []
    }
  ]
}